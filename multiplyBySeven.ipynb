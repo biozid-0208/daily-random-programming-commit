{
  "nbformat": 4,
  "nbformat_minor": 0,
  "metadata": {
    "colab": {
      "name": "multiplyBySeven.ipynb",
      "provenance": [],
      "authorship_tag": "ABX9TyPzTTC9j/Uvq9Ex+2SxfuR9",
      "include_colab_link": true
    },
    "kernelspec": {
      "name": "python3",
      "display_name": "Python 3"
    },
    "language_info": {
      "name": "python"
    }
  },
  "cells": [
    {
      "cell_type": "markdown",
      "metadata": {
        "id": "view-in-github",
        "colab_type": "text"
      },
      "source": [
        "<a href=\"https://colab.research.google.com/github/biozid-0208/daily-random-programming-commit/blob/main/multiplyBySeven.ipynb\" target=\"_parent\"><img src=\"https://colab.research.google.com/assets/colab-badge.svg\" alt=\"Open In Colab\"/></a>"
      ]
    },
    {
      "cell_type": "markdown",
      "source": [
        "**multiply a number by 7 using bitwise operator**:  First left shift the number by 3 bits (you will get 8n) then subtract the original numberfrom the shifted number and return the difference (8n – n). "
      ],
      "metadata": {
        "id": "Z6VJcyfDBkBN"
      }
    },
    {
      "cell_type": "code",
      "execution_count": 1,
      "metadata": {
        "id": "lNuIBxa2A8iK"
      },
      "outputs": [],
      "source": [
        "def multiplyBySeven(n):\n",
        "  return ((n<<3) - n)"
      ]
    },
    {
      "cell_type": "code",
      "source": [
        "print(multiplyBySeven(7))"
      ],
      "metadata": {
        "colab": {
          "base_uri": "https://localhost:8080/"
        },
        "id": "bfnzgnoqBhc4",
        "outputId": "1c2753df-de60-4b0e-a6d6-329ecc5cd5bf"
      },
      "execution_count": 2,
      "outputs": [
        {
          "output_type": "stream",
          "name": "stdout",
          "text": [
            "49\n"
          ]
        }
      ]
    },
    {
      "cell_type": "code",
      "source": [
        "print(multiplyBySeven(8))"
      ],
      "metadata": {
        "colab": {
          "base_uri": "https://localhost:8080/"
        },
        "id": "pnKemXC-Bwv2",
        "outputId": "984ecfb7-67de-46be-c90f-a845b95ae0d0"
      },
      "execution_count": 3,
      "outputs": [
        {
          "output_type": "stream",
          "name": "stdout",
          "text": [
            "56\n"
          ]
        }
      ]
    },
    {
      "cell_type": "code",
      "source": [
        ""
      ],
      "metadata": {
        "id": "ghUz-zjyBy-o"
      },
      "execution_count": null,
      "outputs": []
    }
  ]
}