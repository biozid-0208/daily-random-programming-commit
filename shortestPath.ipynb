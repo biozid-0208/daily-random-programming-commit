{
  "nbformat": 4,
  "nbformat_minor": 0,
  "metadata": {
    "colab": {
      "name": "shortestPath.ipynb",
      "provenance": [],
      "authorship_tag": "ABX9TyOFVvN1+oJJ4itPDsySWDIC",
      "include_colab_link": true
    },
    "kernelspec": {
      "name": "python3",
      "display_name": "Python 3"
    },
    "language_info": {
      "name": "python"
    }
  },
  "cells": [
    {
      "cell_type": "markdown",
      "metadata": {
        "id": "view-in-github",
        "colab_type": "text"
      },
      "source": [
        "<a href=\"https://colab.research.google.com/github/biozid-0208/daily-random-programming-commit/blob/main/shortestPath.ipynb\" target=\"_parent\"><img src=\"https://colab.research.google.com/assets/colab-badge.svg\" alt=\"Open In Colab\"/></a>"
      ]
    },
    {
      "cell_type": "code",
      "execution_count": 6,
      "metadata": {
        "colab": {
          "base_uri": "https://localhost:8080/"
        },
        "id": "hqWQlIyi3zHK",
        "outputId": "92c88ff6-77f4-4a8d-c66f-8f99d54b9461"
      },
      "outputs": [
        {
          "output_type": "stream",
          "name": "stdout",
          "text": [
            "{1: [1], 2: [1, 3, 2], 3: [1, 3], 4: [1, 3, 2, 4], 5: [1, 3, 2, 4, 5], 6: [1, 3, 2, 4, 5, 6]}\n",
            "[1, 3, 2, 4, 5, 6]\n",
            "15\n"
          ]
        }
      ],
      "source": [
        "import networkx as nx\n",
        "\n",
        "edges = [(1,2, {'weight':4}),\n",
        "        (1,3,{'weight':2}),\n",
        "        (2,3,{'weight':1}),\n",
        "        (2,4, {'weight':5}),\n",
        "        (3,4, {'weight':8}),\n",
        "        (3,5, {'weight':10}),\n",
        "        (4,5,{'weight':2}),\n",
        "        (4,6,{'weight':8}),\n",
        "        (5,6,{'weight':5})]\n",
        "edge_labels = {(1,2):4, (1,3):2, (2,3):1, (2,4):5, (3,4):8, (3,5):10, (4,5):2, (4,6):8, (5,6):5}\n",
        "   \n",
        "        \n",
        "G = nx.Graph()\n",
        "for i in range(1,7):\n",
        "    G.add_node(i)\n",
        "G.add_edges_from(edges)\n",
        "\n",
        "pos = nx.planar_layout(G)\n",
        "\n",
        "# This will give us all the shortest paths from node 1 using the weights from the edges. \n",
        "p1 = nx.shortest_path(G, source=1, weight='weight')\n",
        "\n",
        "# This will give us the shortest path from node 1 to node 6.\n",
        "p1to6 = nx.shortest_path(G, source=1, target=6, weight='weight')\n",
        "\n",
        "# This will give us the length of the shortest path from node 1 to node 6.\n",
        "length = nx.shortest_path_length(G, source=1, target=6, weight='weight')\n",
        "\n",
        "\n",
        "print( p1to6)\n"
      ]
    },
    {
      "cell_type": "code",
      "source": [
        "import matplotlib.pyplot as plt\n",
        "pos=nx.spring_layout(G) # pos = nx.nx_agraph.graphviz_layout(G)\n",
        "nx.draw_networkx(G,pos)\n",
        "labels = nx.get_edge_attributes(G,'weight')\n",
        "nx.draw_networkx_edge_labels(G,pos,edge_labels=labels)"
      ],
      "metadata": {
        "colab": {
          "base_uri": "https://localhost:8080/",
          "height": 404
        },
        "id": "47EVtnW-4SUz",
        "outputId": "f15e60b2-2c7a-4923-eda1-88c65f3e7764"
      },
      "execution_count": 16,
      "outputs": [
        {
          "output_type": "execute_result",
          "data": {
            "text/plain": [
              "{(1, 2): Text(-0.896006679078851, -0.387097812422664, '4'),\n",
              " (1, 3): Text(-0.41495832497919716, -0.5451667359880856, '2'),\n",
              " (2, 3): Text(-0.3109650040580482, -0.14154958470401827, '1'),\n",
              " (2, 4): Text(-0.35613495909316983, 0.19257716467090408, '5'),\n",
              " (3, 4): Text(0.12491339500648403, 0.03450824110548242, '8'),\n",
              " (3, 5): Text(0.48370682885872135, -0.1678946237752546, '10'),\n",
              " (4, 5): Text(0.43853687382359974, 0.16623212559966774, '2'),\n",
              " (4, 6): Text(0.41229985022012916, 0.5549924361979183, '8'),\n",
              " (5, 6): Text(0.7710932840723665, 0.3525895713171812, '5')}"
            ]
          },
          "metadata": {},
          "execution_count": 16
        },
        {
          "output_type": "display_data",
          "data": {
            "text/plain": [
              "<Figure size 432x288 with 1 Axes>"
            ],
            "image/png": "[encoded data removed]"
          },
          "metadata": {}
        }
      ]
    },
    {
      "cell_type": "code",
      "source": [
        "a = []\n",
        "for j in range(0,len(p1to6)-1):\n",
        "    a.append((p1to6[j], p1to6[j+1]))\n",
        "print(a)\n"
      ],
      "metadata": {
        "colab": {
          "base_uri": "https://localhost:8080/"
        },
        "id": "-3HJoB694-De",
        "outputId": "2e5b7abb-8c66-48ed-925b-5cdee5e3a1c1"
      },
      "execution_count": 19,
      "outputs": [
        {
          "output_type": "stream",
          "name": "stdout",
          "text": [
            "[(1, 3), (3, 2), (2, 4), (4, 5), (5, 6)]\n"
          ]
        }
      ]
    },
    {
      "cell_type": "code",
      "source": [
        "p1to5 = nx.shortest_path(G, source=1, target=5, weight='weight')\n",
        "p1to5"
      ],
      "metadata": {
        "colab": {
          "base_uri": "https://localhost:8080/"
        },
        "id": "2zuDuMwn8jVU",
        "outputId": "982393a2-b7d1-4eba-e0a9-d65e168ea67d"
      },
      "execution_count": 22,
      "outputs": [
        {
          "output_type": "execute_result",
          "data": {
            "text/plain": [
              "[1, 3, 2, 4, 5]"
            ]
          },
          "metadata": {},
          "execution_count": 22
        }
      ]
    },
    {
      "cell_type": "code",
      "source": [
        "b = []\n",
        "for j in range(0,len(p1to5)-1):\n",
        "    b.append((p1to5[j], p1to5[j+1]))\n",
        "print(b)"
      ],
      "metadata": {
        "colab": {
          "base_uri": "https://localhost:8080/"
        },
        "id": "lE1ObH40-3La",
        "outputId": "b1973c17-3fb9-4946-f69e-a535ed340b43"
      },
      "execution_count": 23,
      "outputs": [
        {
          "output_type": "stream",
          "name": "stdout",
          "text": [
            "[(1, 3), (3, 2), (2, 4), (4, 5)]\n"
          ]
        }
      ]
    },
    {
      "cell_type": "code",
      "source": [
        "def detectOverlap(a, b):\n",
        "  for i in a:\n",
        "    for j in b:\n",
        "      if set(i) == set(j):\n",
        "        return 1\n",
        "  return 0"
      ],
      "metadata": {
        "id": "obGmD2zi_5Vi"
      },
      "execution_count": 35,
      "outputs": []
    },
    {
      "cell_type": "code",
      "source": [
        "d = {\"r1\": [(1, 3), (3, 2), (2, 4), (4, 5)],\n",
        "\"r2\" : [(1, 3), (3, 2), (2, 4), (4, 5), (5, 6)],\n",
        "\"r3\": [(5,3)]}"
      ],
      "metadata": {
        "id": "r4HZJPwgM0GQ"
      },
      "execution_count": 39,
      "outputs": []
    },
    {
      "cell_type": "code",
      "source": [
        "\n",
        "arr = []\n",
        "for k1 in d.keys() :\n",
        "  tem = []\n",
        "  for k2 in d.keys():\n",
        "    if k1 == k2:\n",
        "      result = 0\n",
        "    else:\n",
        "      result = detectOverlap(d[k1], d[k2])\n",
        "    tem.append(result)\n",
        "  arr.append(tem)\n",
        "arr"
      ],
      "metadata": {
        "colab": {
          "base_uri": "https://localhost:8080/"
        },
        "id": "ObwagBEmNL0k",
        "outputId": "34d19e5e-a7d0-4df7-e23e-eed7a8d5c193"
      },
      "execution_count": 40,
      "outputs": [
        {
          "output_type": "execute_result",
          "data": {
            "text/plain": [
              "[[0, 1, 0], [1, 0, 0], [0, 0, 0]]"
            ]
          },
          "metadata": {},
          "execution_count": 40
        }
      ]
    },
    {
      "cell_type": "code",
      "source": [
        "import numpy as np\n",
        "a = np.array(arr)\n",
        "a"
      ],
      "metadata": {
        "colab": {
          "base_uri": "https://localhost:8080/"
        },
        "id": "s223h62JSa1C",
        "outputId": "5602f42e-cf00-428f-b50c-773e7374ec3e"
      },
      "execution_count": 38,
      "outputs": [
        {
          "output_type": "execute_result",
          "data": {
            "text/plain": [
              "array([[0, 1, 1],\n",
              "       [1, 0, 1],\n",
              "       [1, 1, 0]])"
            ]
          },
          "metadata": {},
          "execution_count": 38
        }
      ]
    },
    {
      "cell_type": "code",
      "source": [
        "import matplotlib.pyplot as plt\n",
        "import networkx as nx\n",
        "\n",
        "def show_graph_with_labels(adjacency_matrix, mylabels):\n",
        "    rows, cols = np.where(adjacency_matrix == 1)\n",
        "    edges = zip(rows.tolist(), cols.tolist())\n",
        "    gr = nx.Graph()\n",
        "    gr.add_edges_from(edges)\n",
        "    nx.draw(gr, node_size=500, labels=mylabels, with_labels=True)\n",
        "    plt.show()"
      ],
      "metadata": {
        "id": "b5-8ZTqdSeYc"
      },
      "execution_count": 41,
      "outputs": []
    },
    {
      "cell_type": "code",
      "source": [
        "G = nx.from_numpy_matrix(a)\n",
        "nx.draw(G, with_labels=True)\n",
        "plt.show()"
      ],
      "metadata": {
        "colab": {
          "base_uri": "https://localhost:8080/",
          "height": 319
        },
        "id": "X8Kbi3rKUT65",
        "outputId": "dcfea301-8faa-4725-a904-3c1ccd07b5a8"
      },
      "execution_count": 48,
      "outputs": [
        {
          "output_type": "display_data",
          "data": {
            "text/plain": [
              "<Figure size 432x288 with 1 Axes>"
            ],
            "image/png": "[encoded data removed]"
          },
          "metadata": {}
        }
      ]
    },
    {
      "cell_type": "code",
      "source": [
        "colors = [\n",
        "\"lightcoral\", \"gray\", \"lightgray\", \"firebrick\", \"red\", \"chocolate\", \"darkorange\", \"moccasin\", \"gold\", \"yellow\", \"darkolivegreen\", \"chartreuse\", \"forestgreen\", \"lime\", \"mediumaquamarine\", \"turquoise\", \"teal\", \"cadetblue\", \"dogerblue\", \"blue\", \"slateblue\", \"blueviolet\", \"magenta\", \"lightsteelblue\"]"
      ],
      "metadata": {
        "id": "lNkvYYqUUiIp"
      },
      "execution_count": 49,
      "outputs": []
    },
    {
      "cell_type": "code",
      "source": [
        "import random\n",
        "def greedy_coloring_algorithm(network, colors):\n",
        "    nodes = list(network.nodes()) \n",
        "    random.shuffle(nodes) # step 1 random ordering\n",
        "    for node in nodes:\n",
        "        dict_neighbors = dict(network[node])\n",
        "# gives names of nodes that are neighbors\n",
        "        nodes_neighbors = list(dict_neighbors.keys())\n",
        "        \n",
        "        forbidden_colors = []\n",
        "        for neighbor in nodes_neighbors:\n",
        "            if len(network.nodes.data()[neighbor].keys()) == 0: \n",
        "                # if the neighbor has no color, proceed\n",
        "                continue\n",
        "            else:\n",
        "                # if the neighbor has a color,\n",
        "                # this color is forbidden\n",
        "                forbidden_color = network.nodes.data()[neighbor]\n",
        "                forbidden_color = forbidden_color['color']\n",
        "                forbidden_colors.append(forbidden_color)\n",
        "        # assign the first color \n",
        "        # that is not forbidden\n",
        "        for color in colors:\n",
        "            # step 2: start everytime at the top of the colors,\n",
        "            # so that the smallest number of colors is used\n",
        "            if color in forbidden_colors:\n",
        "                continue\n",
        "            else:\n",
        "                # step 3: color one node at the time\n",
        "                network.nodes[node]['color'] = color\n",
        "                break"
      ],
      "metadata": {
        "id": "5clu7TyfWix4"
      },
      "execution_count": 50,
      "outputs": []
    },
    {
      "cell_type": "code",
      "source": [
        "greedy_coloring_algorithm(G, colors)"
      ],
      "metadata": {
        "id": "uefKQ86sWmQx"
      },
      "execution_count": 51,
      "outputs": []
    },
    {
      "cell_type": "code",
      "source": [
        "colors_nodes = [data['color'] for v, data in G.nodes(data=True)]\n",
        "nx.draw(G, node_color=colors_nodes, with_labels=True)"
      ],
      "metadata": {
        "colab": {
          "base_uri": "https://localhost:8080/",
          "height": 319
        },
        "id": "awr9rTZrWrTU",
        "outputId": "d0962e4e-660f-4103-8fd5-b23d07cad4af"
      },
      "execution_count": 52,
      "outputs": [
        {
          "output_type": "display_data",
          "data": {
            "text/plain": [
              "<Figure size 432x288 with 1 Axes>"
            ],
            "image/png": "[encoded data removed]"
          },
          "metadata": {}
        }
      ]
    },
    {
      "cell_type": "code",
      "source": [
        "colors_nodes"
      ],
      "metadata": {
        "colab": {
          "base_uri": "https://localhost:8080/"
        },
        "id": "aa6FMp3OWxix",
        "outputId": "90bcbc15-7f62-4f7d-8b0a-0edc88be2289"
      },
      "execution_count": 53,
      "outputs": [
        {
          "output_type": "execute_result",
          "data": {
            "text/plain": [
              "['gray', 'lightgray', 'lightcoral']"
            ]
          },
          "metadata": {},
          "execution_count": 53
        }
      ]
    },
    {
      "cell_type": "code",
      "source": [
        ""
      ],
      "metadata": {
        "id": "pa4hybMkW0rd"
      },
      "execution_count": null,
      "outputs": []
    }
  ]
}