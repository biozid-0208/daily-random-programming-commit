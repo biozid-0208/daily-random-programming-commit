{
  "nbformat": 4,
  "nbformat_minor": 0,
  "metadata": {
    "colab": {
      "name": "LinkedList-findKthNode.ipynb",
      "provenance": [],
      "authorship_tag": "ABX9TyPq1whJMlwYMhxRY1Nr7hQZ",
      "include_colab_link": true
    },
    "kernelspec": {
      "name": "python3",
      "display_name": "Python 3"
    },
    "language_info": {
      "name": "python"
    }
  },
  "cells": [
    {
      "cell_type": "markdown",
      "metadata": {
        "id": "view-in-github",
        "colab_type": "text"
      },
      "source": [
        "<a href=\"https://colab.research.google.com/github/biozid-0208/daily-random-programming-commit/blob/main/LinkedList_findKthNode.ipynb\" target=\"_parent\"><img src=\"https://colab.research.google.com/assets/colab-badge.svg\" alt=\"Open In Colab\"/></a>"
      ]
    },
    {
      "cell_type": "code",
      "execution_count": 1,
      "metadata": {
        "id": "o8A8Z3I6s9CI"
      },
      "outputs": [],
      "source": [
        "class LinkedList:\n",
        "    def __init__(self, data=None, next=None):\n",
        "        self.data = data\n",
        "        self.next = next\n",
        " \n",
        "def findKthNode(head, k):\n",
        "    fast_ptr = head\n",
        "    for i in range(k):\n",
        "        if fast_ptr is None:\n",
        "            return None\n",
        "        fast_ptr = fast_ptr.next\n",
        "    while fast_ptr:\n",
        "        head = head.next\n",
        "        fast_ptr = fast_ptr.next\n",
        "    return head.data"
      ]
    },
    {
      "cell_type": "code",
      "source": [
        "keys = [10, 29, 35, 41, 59, 65]\n",
        "\n",
        "head = None\n",
        "for i in reversed(keys):\n",
        "    head = LinkedList(i, head)\n",
        "\n",
        "k = 3\n",
        "nodeValue = findKthNode(head, k)\n",
        "print(str(k)+\"-th node from end is:\", nodeValue)"
      ],
      "metadata": {
        "colab": {
          "base_uri": "https://localhost:8080/"
        },
        "id": "tIf0HMc-tDyi",
        "outputId": "af18f1bc-074a-4b98-d493-0f3fdff76f96"
      },
      "execution_count": 2,
      "outputs": [
        {
          "output_type": "stream",
          "name": "stdout",
          "text": [
            "3-th node from end is: 41\n"
          ]
        }
      ]
    },
    {
      "cell_type": "code",
      "source": [
        ""
      ],
      "metadata": {
        "id": "sgAET4L1tGX9"
      },
      "execution_count": null,
      "outputs": []
    }
  ]
}