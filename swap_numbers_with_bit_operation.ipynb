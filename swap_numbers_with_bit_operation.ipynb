{
  "nbformat": 4,
  "nbformat_minor": 0,
  "metadata": {
    "colab": {
      "name": "swap_numbers_with_bit_operation.ipynb",
      "provenance": [],
      "authorship_tag": "ABX9TyNv88B5Oa5IkSwAzWnEIZbA",
      "include_colab_link": true
    },
    "kernelspec": {
      "name": "python3",
      "display_name": "Python 3"
    },
    "language_info": {
      "name": "python"
    }
  },
  "cells": [
    {
      "cell_type": "markdown",
      "metadata": {
        "id": "view-in-github",
        "colab_type": "text"
      },
      "source": [
        "<a href=\"https://colab.research.google.com/github/biozid-0208/daily-random-programming-commit/blob/main/swap_numbers_with_bit_operation.ipynb\" target=\"_parent\"><img src=\"https://colab.research.google.com/assets/colab-badge.svg\" alt=\"Open In Colab\"/></a>"
      ]
    },
    {
      "cell_type": "code",
      "execution_count": 1,
      "metadata": {
        "id": "Ol0LjmdHsWYk"
      },
      "outputs": [],
      "source": [
        "def swap(a,b):\n",
        "  a = int(a)\n",
        "  b = int(b)\n",
        "  a = a ^ b\n",
        "  b = a ^ b\n",
        "  a = a ^ b\n",
        "  return a,b"
      ]
    },
    {
      "cell_type": "code",
      "source": [
        "print(swap(12, 21))"
      ],
      "metadata": {
        "colab": {
          "base_uri": "https://localhost:8080/"
        },
        "id": "PPIbmKcctBTP",
        "outputId": "8cf3fe74-ad57-4450-bc13-36c5d2c34974"
      },
      "execution_count": 2,
      "outputs": [
        {
          "output_type": "stream",
          "name": "stdout",
          "text": [
            "(21, 12)\n"
          ]
        }
      ]
    },
    {
      "cell_type": "code",
      "source": [
        ""
      ],
      "metadata": {
        "id": "hSW6FxurtG5S"
      },
      "execution_count": null,
      "outputs": []
    }
  ]
}