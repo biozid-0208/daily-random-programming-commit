{
  "nbformat": 4,
  "nbformat_minor": 0,
  "metadata": {
    "colab": {
      "name": "shell-sort.ipynb",
      "provenance": [],
      "authorship_tag": "ABX9TyOV1hT1ohWsw81p61lK3j5R",
      "include_colab_link": true
    },
    "kernelspec": {
      "name": "python3",
      "display_name": "Python 3"
    },
    "language_info": {
      "name": "python"
    }
  },
  "cells": [
    {
      "cell_type": "markdown",
      "metadata": {
        "id": "view-in-github",
        "colab_type": "text"
      },
      "source": [
        "<a href=\"https://colab.research.google.com/github/biozid-0208/daily-random-programming-commit/blob/main/shell_sort.ipynb\" target=\"_parent\"><img src=\"https://colab.research.google.com/assets/colab-badge.svg\" alt=\"Open In Colab\"/></a>"
      ]
    },
    {
      "cell_type": "code",
      "execution_count": 1,
      "metadata": {
        "id": "z4hWPAntixqR"
      },
      "outputs": [],
      "source": [
        "def ShellSort(lst):\n",
        "  distance = len(lst)//2\n",
        "  while distance > 0:\n",
        "    for i in range(distance, len(lst)):\n",
        "      temp = lst[i]\n",
        "      j = i \n",
        "      while j >= distance and lst[j - distance] > temp:\n",
        "        lst[j] = lst[j- distance]\n",
        "        j = j - distance\n",
        "      lst[j] = temp\n",
        "    distance = distance //2\n",
        "  return lst"
      ]
    },
    {
      "cell_type": "code",
      "source": [
        "lst = [12, 32,41, 14, 53, 67, 83, 43, 74, 72]"
      ],
      "metadata": {
        "id": "wFwxIBdekbqM"
      },
      "execution_count": 2,
      "outputs": []
    },
    {
      "cell_type": "code",
      "source": [
        "print(ShellSort(lst))"
      ],
      "metadata": {
        "colab": {
          "base_uri": "https://localhost:8080/"
        },
        "id": "AZrrR9ZxkkHC",
        "outputId": "c5536d32-ce10-4cdb-f394-646091dc8a23"
      },
      "execution_count": 3,
      "outputs": [
        {
          "output_type": "stream",
          "name": "stdout",
          "text": [
            "[12, 14, 32, 41, 43, 53, 67, 72, 74, 83]\n"
          ]
        }
      ]
    },
    {
      "cell_type": "code",
      "source": [
        ""
      ],
      "metadata": {
        "id": "qnwEOuCSkoox"
      },
      "execution_count": null,
      "outputs": []
    }
  ]
}