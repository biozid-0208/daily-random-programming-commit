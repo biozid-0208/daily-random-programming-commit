{
  "nbformat": 4,
  "nbformat_minor": 0,
  "metadata": {
    "colab": {
      "name": "pygraph.ipynb",
      "provenance": [],
      "authorship_tag": "ABX9TyMP2UTen7VhMugulKAQ4Aql",
      "include_colab_link": true
    },
    "kernelspec": {
      "name": "python3",
      "display_name": "Python 3"
    },
    "language_info": {
      "name": "python"
    }
  },
  "cells": [
    {
      "cell_type": "markdown",
      "metadata": {
        "id": "view-in-github",
        "colab_type": "text"
      },
      "source": [
        "<a href=\"https://colab.research.google.com/github/biozid-0208/daily-random-programming-commit/blob/main/pygraph.ipynb\" target=\"_parent\"><img src=\"https://colab.research.google.com/assets/colab-badge.svg\" alt=\"Open In Colab\"/></a>"
      ]
    },
    {
      "cell_type": "code",
      "execution_count": 1,
      "metadata": {
        "id": "nJUTyAslQADt"
      },
      "outputs": [],
      "source": [
        "import numpy as np\n",
        "import networkx as nx\n",
        "import matplotlib.pyplot as plt\n"
      ]
    },
    {
      "cell_type": "code",
      "source": [
        "myWeb = nx.DiGraph()\n",
        "myPages = range(1,5)\n"
      ],
      "metadata": {
        "id": "IC-QsUCKQJJY"
      },
      "execution_count": 2,
      "outputs": []
    },
    {
      "cell_type": "code",
      "source": [
        "connections = [(1,3),(2,1),(2,3),(3,1),(3,2),(3,4),(4,5),(5,1),(5,4)]\n",
        "myWeb.add_nodes_from(myPages)\n",
        "myWeb.add_edges_from(connections)\n"
      ],
      "metadata": {
        "id": "niKDoU7sQLYk"
      },
      "execution_count": 3,
      "outputs": []
    },
    {
      "cell_type": "code",
      "source": [
        "pos=nx.shell_layout(myWeb)\n",
        "nx.draw(myWeb, pos, arrows=True, with_labels=True)\n",
        "plt.show()\n"
      ],
      "metadata": {
        "colab": {
          "base_uri": "https://localhost:8080/",
          "height": 319
        },
        "id": "WLeoQiHdQNGE",
        "outputId": "9355d9f4-f1d1-4604-a7bd-c8cb6ed90429"
      },
      "execution_count": 4,
      "outputs": [
        {
          "output_type": "display_data",
          "data": {
            "image/png": "[encoded data removed]",
            "text/plain": [
              "<Figure size 432x288 with 1 Axes>"
            ]
          },
          "metadata": {}
        }
      ]
    },
    {
      "cell_type": "code",
      "source": [
        "def crearePageRank(aGrapgh):\n",
        "  node_set = len(aGrapgh)\n",
        "  M = nx.to_numpy_matrix(aGrapgh)\n",
        "  outwards = np.squeeze(np.asarray(np.sum(M, axis=1)))\n",
        "  prob_outward = np.array([1.0/count if count > 0 else 0.0 for count in outwards])\n",
        "  G = np.asarray(np.asarray(np.multiply(M.T, prob_outward)))\n",
        "  p = np.ones(node_set) / float(node_set)\n",
        "  if np.min(np.sum(G, axis=0)) < 1.0:\n",
        "    print('Warn: G is substochastic')\n",
        "  return G, p\n"
      ],
      "metadata": {
        "id": "I2l-GLhZQO6o"
      },
      "execution_count": 5,
      "outputs": []
    },
    {
      "cell_type": "code",
      "source": [
        "G,p = crearePageRank(myWeb)\n",
        "print(G)"
      ],
      "metadata": {
        "colab": {
          "base_uri": "https://localhost:8080/"
        },
        "id": "6qqWh5OBUlaD",
        "outputId": "f49e2d4d-b318-48f4-c33d-a777b2f109b0"
      },
      "execution_count": 6,
      "outputs": [
        {
          "output_type": "stream",
          "name": "stdout",
          "text": [
            "[[0.         0.5        0.33333333 0.         0.5       ]\n",
            " [0.         0.         0.33333333 0.         0.        ]\n",
            " [1.         0.5        0.         0.         0.        ]\n",
            " [0.         0.         0.33333333 0.         0.5       ]\n",
            " [0.         0.         0.         1.         0.        ]]\n"
          ]
        }
      ]
    },
    {
      "cell_type": "code",
      "source": [
        ""
      ],
      "metadata": {
        "id": "jvDdJP0PUwbZ"
      },
      "execution_count": null,
      "outputs": []
    }
  ]
}