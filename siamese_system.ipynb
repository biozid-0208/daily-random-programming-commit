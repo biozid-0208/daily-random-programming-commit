{
  "nbformat": 4,
  "nbformat_minor": 0,
  "metadata": {
    "colab": {
      "name": "siamese_system.ipynb",
      "provenance": [],
      "authorship_tag": "ABX9TyNqjTHpno0tFwF64Bd8Cz5g",
      "include_colab_link": true
    },
    "kernelspec": {
      "name": "python3",
      "display_name": "Python 3"
    },
    "language_info": {
      "name": "python"
    }
  },
  "cells": [
    {
      "cell_type": "markdown",
      "metadata": {
        "id": "view-in-github",
        "colab_type": "text"
      },
      "source": [
        "<a href=\"https://colab.research.google.com/github/biozid-0208/daily-random-programming-commit/blob/main/siamese_system.ipynb\" target=\"_parent\"><img src=\"https://colab.research.google.com/assets/colab-badge.svg\" alt=\"Open In Colab\"/></a>"
      ]
    },
    {
      "cell_type": "code",
      "execution_count": 28,
      "metadata": {
        "id": "NpZv9INeIukD"
      },
      "outputs": [],
      "source": [
        "import random\n",
        "import numpy as np\n",
        "import tensorflow as tf\n",
        "\n"
      ]
    },
    {
      "cell_type": "code",
      "source": [
        "def prepareData(inputs: np.ndarray, labels: np.ndarray):\n",
        "      classesNumbers = 10\n",
        "      digitalIdx = [np.where(labels == i)[0] for i in range(classesNumbers)]\n",
        "      pairs = list()\n",
        "      labels = list()\n",
        "      n = min([len(digitalIdx[d]) for d in range(classesNumbers)]) - 1\n",
        "      for d in range(classesNumbers):\n",
        "        for i in range(n):\n",
        "            z1, z2 = digitalIdx[d][i], digitalIdx[d][i + 1]\n",
        "            pairs += [[inputs[z1], inputs[z2]]]\n",
        "            inc = random.randrange(1, classesNumbers)\n",
        "            dn = (d + inc) % classesNumbers\n",
        "            z1, z2 = digitalIdx[d][i], digitalIdx[dn][i]\n",
        "            pairs += [[inputs[z1], inputs[z2]]]\n",
        "            labels += [1, 0]    \n",
        "      return np.array(pairs), np.array(labels, dtype=np.float32)"
      ],
      "metadata": {
        "id": "xrbgqOkoQde9"
      },
      "execution_count": 29,
      "outputs": []
    },
    {
      "cell_type": "code",
      "source": [
        "def createTemplate():\n",
        "      return tf.keras.models.Sequential([\n",
        "        tf.keras.layers.Flatten(),\n",
        "        tf.keras.layers.Dense(128, activation='relu'),\n",
        "        tf.keras.layers.Dropout(0.15),\n",
        "        tf.keras.layers.Dense(128, activation='relu'),\n",
        "        tf.keras.layers.Dropout(0.15),\n",
        "        tf.keras.layers.Dense(64, activation='relu'),    \n",
        "        ])"
      ],
      "metadata": {
        "id": "G6-JL2ReQd8S"
      },
      "execution_count": 30,
      "outputs": []
    },
    {
      "cell_type": "code",
      "source": [
        "(x_train, y_train), (x_test, y_test) = tf.keras.datasets.mnist.load_data()\n",
        "x_train = x_train.astype(np.float32)\n",
        "x_test = x_test.astype(np.float32)\n",
        "x_train /= 255\n",
        "x_test /= 255\n",
        "input_shape = x_train.shape[1:]"
      ],
      "metadata": {
        "id": "aVt4V5qlQf6f"
      },
      "execution_count": 31,
      "outputs": []
    },
    {
      "cell_type": "code",
      "source": [
        "train_pairs, tr_labels = prepareData(x_train, y_train)\n",
        "test_pairs, test_labels = prepareData(x_test, y_test)"
      ],
      "metadata": {
        "id": "2GZolHxQQj5f"
      },
      "execution_count": 32,
      "outputs": []
    },
    {
      "cell_type": "code",
      "source": [
        "base_network = createTemplate()"
      ],
      "metadata": {
        "id": "yA6vH1R2QmW1"
      },
      "execution_count": 33,
      "outputs": []
    },
    {
      "cell_type": "code",
      "source": [
        "# Create first half of the siamese system\n",
        "input_a = tf.keras.layers.Input(shape=input_shape)\n",
        "# Note how we reuse the base_network in both halfs\n",
        "enconder1 = base_network(input_a)\n",
        "# Create the second half of the siamese system\n",
        "input_b = tf.keras.layers.Input(shape=input_shape)\n",
        "enconder2 = base_network(input_b)"
      ],
      "metadata": {
        "id": "-5g9-iQ3QoMH"
      },
      "execution_count": 34,
      "outputs": []
    },
    {
      "cell_type": "code",
      "source": [
        "distance = tf.keras.layers.Lambda(    \n",
        "    lambda embeddings: tf.keras.backend.abs(embeddings[0] - embeddings[1])) \\\n",
        "    ([enconder1, enconder2])"
      ],
      "metadata": {
        "id": "fk36oRiQQrW_"
      },
      "execution_count": 35,
      "outputs": []
    },
    {
      "cell_type": "code",
      "source": [
        "measureOfSimilarity = tf.keras.layers.Dense(1, activation='sigmoid') (distance)"
      ],
      "metadata": {
        "id": "yEqO-vbtQtYV"
      },
      "execution_count": 36,
      "outputs": []
    },
    {
      "cell_type": "code",
      "source": [
        "# Build the model\n",
        "model = tf.keras.models.Model([input_a, input_b], measureOfSimilarity)\n",
        "# Train\n",
        "model.compile(loss='binary_crossentropy',optimizer=tf.keras.optimizers.Adam(),metrics=['accuracy'])\n",
        "\n",
        "model.fit([train_pairs[:, 0], train_pairs[:, 1]], tr_labels,          \n",
        "          batch_size=128,epochs=10,validation_data=([test_pairs[:, 0], test_pairs[:, 1]], test_labels))"
      ],
      "metadata": {
        "colab": {
          "base_uri": "https://localhost:8080/"
        },
        "id": "GJWO4l9SQvkV",
        "outputId": "79244e06-06e8-4b5f-9172-1ff92fdba656"
      },
      "execution_count": 37,
      "outputs": [
        {
          "output_type": "stream",
          "name": "stdout",
          "text": [
            "Epoch 1/10\n",
            "847/847 [==============================] - 8s 9ms/step - loss: 0.3450 - accuracy: 0.8496 - val_loss: 0.2606 - val_accuracy: 0.9181\n",
            "Epoch 2/10\n",
            "847/847 [==============================] - 7s 8ms/step - loss: 0.1799 - accuracy: 0.9331 - val_loss: 0.1719 - val_accuracy: 0.9474\n",
            "Epoch 3/10\n",
            "847/847 [==============================] - 7s 8ms/step - loss: 0.1253 - accuracy: 0.9549 - val_loss: 0.1462 - val_accuracy: 0.9564\n",
            "Epoch 4/10\n",
            "847/847 [==============================] - 7s 8ms/step - loss: 0.0968 - accuracy: 0.9660 - val_loss: 0.1159 - val_accuracy: 0.9649\n",
            "Epoch 5/10\n",
            "847/847 [==============================] - 7s 8ms/step - loss: 0.0795 - accuracy: 0.9720 - val_loss: 0.1073 - val_accuracy: 0.9678\n",
            "Epoch 6/10\n",
            "847/847 [==============================] - 7s 8ms/step - loss: 0.0681 - accuracy: 0.9766 - val_loss: 0.0938 - val_accuracy: 0.9721\n",
            "Epoch 7/10\n",
            "847/847 [==============================] - 7s 8ms/step - loss: 0.0585 - accuracy: 0.9800 - val_loss: 0.0929 - val_accuracy: 0.9727\n",
            "Epoch 8/10\n",
            "847/847 [==============================] - 7s 8ms/step - loss: 0.0510 - accuracy: 0.9824 - val_loss: 0.0939 - val_accuracy: 0.9731\n",
            "Epoch 9/10\n",
            "847/847 [==============================] - 7s 8ms/step - loss: 0.0463 - accuracy: 0.9842 - val_loss: 0.0852 - val_accuracy: 0.9755\n",
            "Epoch 10/10\n",
            "847/847 [==============================] - 7s 8ms/step - loss: 0.0407 - accuracy: 0.9861 - val_loss: 0.0866 - val_accuracy: 0.9751\n"
          ]
        },
        {
          "output_type": "execute_result",
          "data": {
            "text/plain": [
              "<keras.callbacks.History at 0x7f646260ae50>"
            ]
          },
          "metadata": {},
          "execution_count": 37
        }
      ]
    },
    {
      "cell_type": "code",
      "source": [
        ""
      ],
      "metadata": {
        "id": "hLLK_F5mQxuv"
      },
      "execution_count": null,
      "outputs": []
    }
  ]
}