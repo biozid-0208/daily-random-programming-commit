{
  "nbformat": 4,
  "nbformat_minor": 0,
  "metadata": {
    "colab": {
      "name": "BitOperation-AddOne.ipynb",
      "provenance": [],
      "authorship_tag": "ABX9TyNmx33GPTavasKOmJfvvBi+",
      "include_colab_link": true
    },
    "kernelspec": {
      "name": "python3",
      "display_name": "Python 3"
    },
    "language_info": {
      "name": "python"
    }
  },
  "cells": [
    {
      "cell_type": "markdown",
      "metadata": {
        "id": "view-in-github",
        "colab_type": "text"
      },
      "source": [
        "<a href=\"https://colab.research.google.com/github/biozid-0208/daily-random-programming-commit/blob/main/BitOperation_AddOne.ipynb\" target=\"_parent\"><img src=\"https://colab.research.google.com/assets/colab-badge.svg\" alt=\"Open In Colab\"/></a>"
      ]
    },
    {
      "cell_type": "code",
      "execution_count": 1,
      "metadata": {
        "id": "v4GXYRVKlyMu"
      },
      "outputs": [],
      "source": [
        "def addOne(x) :\n",
        "    m = 1;\n",
        "    while(x & m):\n",
        "        x = x ^ m\n",
        "        m <<= 1\n",
        "    x = x ^ m\n",
        "    return x"
      ]
    },
    {
      "cell_type": "code",
      "source": [
        "print (addOne(13))"
      ],
      "metadata": {
        "colab": {
          "base_uri": "https://localhost:8080/"
        },
        "id": "j1hovTlKl3O8",
        "outputId": "96815aaf-49a3-4098-bfc2-6f50a4cd752e"
      },
      "execution_count": 3,
      "outputs": [
        {
          "output_type": "stream",
          "name": "stdout",
          "text": [
            "14\n"
          ]
        }
      ]
    },
    {
      "cell_type": "code",
      "source": [
        ""
      ],
      "metadata": {
        "id": "Mqb2_mUYl7G9"
      },
      "execution_count": null,
      "outputs": []
    }
  ]
}