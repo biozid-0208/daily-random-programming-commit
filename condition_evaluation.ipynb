{
  "nbformat": 4,
  "nbformat_minor": 0,
  "metadata": {
    "colab": {
      "name": "condition-evaluation",
      "provenance": [],
      "authorship_tag": "ABX9TyO5YD9PnC0zOoE67sasdcAl",
      "include_colab_link": true
    },
    "kernelspec": {
      "name": "python3",
      "display_name": "Python 3"
    },
    "language_info": {
      "name": "python"
    }
  },
  "cells": [
    {
      "cell_type": "markdown",
      "metadata": {
        "id": "view-in-github",
        "colab_type": "text"
      },
      "source": [
        "<a href=\"https://colab.research.google.com/github/biozid-0208/daily-random-programming-commit/blob/main/condition_evaluation.ipynb\" target=\"_parent\"><img src=\"https://colab.research.google.com/assets/colab-badge.svg\" alt=\"Open In Colab\"/></a>"
      ]
    },
    {
      "cell_type": "code",
      "execution_count": 9,
      "metadata": {
        "colab": {
          "base_uri": "https://localhost:8080/"
        },
        "id": "owQmuBtv0Oik",
        "outputId": "1326a04a-8128-4c0c-96fb-8d8ad7060302"
      },
      "outputs": [
        {
          "output_type": "stream",
          "name": "stdout",
          "text": [
            "res -> [False, False]\n",
            "xs -> [()]\n"
          ]
        }
      ],
      "source": [
        "xs = [()]\n",
        "res = [False]* 2\n",
        "print(\"res ->\", res )\n",
        "print(\"xs ->\", xs)\n"
      ]
    },
    {
      "cell_type": "code",
      "source": [
        "if xs:\n",
        "  print(\"Array of empty tuples evaluate to true in If expression !!\")\n",
        "else:\n",
        "  print(\"No it dosen't\")"
      ],
      "metadata": {
        "colab": {
          "base_uri": "https://localhost:8080/"
        },
        "id": "0APU5w5F9F5G",
        "outputId": "688b3954-b7c1-42b8-a404-377c7eaf2465"
      },
      "execution_count": 10,
      "outputs": [
        {
          "output_type": "stream",
          "name": "stdout",
          "text": [
            "Array of empty tuples evaluate to true in If expression !!\n"
          ]
        }
      ]
    },
    {
      "cell_type": "code",
      "source": [
        "if xs[0]:\n",
        "  print(\"Empty tuple is evaluate to True\")\n",
        "else:\n",
        "  print(\"Empty tuple is falsy value\")"
      ],
      "metadata": {
        "colab": {
          "base_uri": "https://localhost:8080/"
        },
        "id": "jFa0s89w9jOj",
        "outputId": "bb091d56-5ed2-4d84-caf8-f60fe7e37cc5"
      },
      "execution_count": 11,
      "outputs": [
        {
          "output_type": "stream",
          "name": "stdout",
          "text": [
            "Empty tuple is falsy value\n"
          ]
        }
      ]
    },
    {
      "cell_type": "code",
      "source": [
        "if res:\n",
        "  print(\"Array of false elements evaluate to true in If expression\")\n",
        "else:\n",
        "  print(\"No it dosen't\")"
      ],
      "metadata": {
        "colab": {
          "base_uri": "https://localhost:8080/"
        },
        "id": "thBCl-ZI9nzI",
        "outputId": "e20ca21e-5353-4a00-9b1f-f815e9f45e68"
      },
      "execution_count": 12,
      "outputs": [
        {
          "output_type": "stream",
          "name": "stdout",
          "text": [
            "Array of false elements evaluate to true in If expression\n"
          ]
        }
      ]
    },
    {
      "cell_type": "code",
      "source": [
        ""
      ],
      "metadata": {
        "id": "e9qcUkgjQXHV"
      },
      "execution_count": null,
      "outputs": []
    }
  ]
}