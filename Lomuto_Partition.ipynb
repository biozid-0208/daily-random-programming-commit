{
  "nbformat": 4,
  "nbformat_minor": 0,
  "metadata": {
    "colab": {
      "name": "Lomuto-Partition",
      "provenance": [],
      "authorship_tag": "ABX9TyO4+t5n0967VA9g7BvydRm2",
      "include_colab_link": true
    },
    "kernelspec": {
      "name": "python3",
      "display_name": "Python 3"
    },
    "language_info": {
      "name": "python"
    }
  },
  "cells": [
    {
      "cell_type": "markdown",
      "metadata": {
        "id": "view-in-github",
        "colab_type": "text"
      },
      "source": [
        "<a href=\"https://colab.research.google.com/github/biozid-0208/daily-random-programming-commit/blob/main/Lomuto_Partition.ipynb\" target=\"_parent\"><img src=\"https://colab.research.google.com/assets/colab-badge.svg\" alt=\"Open In Colab\"/></a>"
      ]
    },
    {
      "cell_type": "code",
      "source": [
        "def quicksort(A, low, high):\n",
        "    if low < high:\n",
        "        parti = lomutoPartition(A, low, high)\n",
        "        quicksort(A, low, parti-1)\n",
        "        quicksort(A, parti+1, high)\n",
        "\n",
        "def lomutoPartition(A, low, high):\n",
        "    pivot = A[high]\n",
        "    i = low-1\n",
        "    for j in range(low, high):\n",
        "        if pivot >= A[j]:\n",
        "            i += 1\n",
        "            A[i], A[j] = A[j], A[i]\n",
        "    A[i+1], A[high] = A[high], A[i+1]\n",
        "    return i+1\n",
        "\n",
        "if __name__ == \"__main__\":\n",
        "    A = [4, 2, 7, 3, 1, 9, 6, 0, 8]\n",
        "    low, high = 0, len(A)-1\n",
        "    print(\"BEFORE SORTING:\", A)\n",
        "    quicksort(A, low, high)\n",
        "    print(\"AFTER SORTING:\", A)"
      ],
      "metadata": {
        "colab": {
          "base_uri": "https://localhost:8080/"
        },
        "id": "-B-E_eHHOskR",
        "outputId": "281d86eb-775d-4670-e9c8-1a52da87a647"
      },
      "execution_count": 1,
      "outputs": [
        {
          "output_type": "stream",
          "name": "stdout",
          "text": [
            "BEFORE SORTING: [4, 2, 7, 3, 1, 9, 6, 0, 8]\n",
            "AFTER SORTING: [0, 1, 2, 3, 4, 6, 7, 8, 9]\n"
          ]
        }
      ]
    },
    {
      "cell_type": "code",
      "source": [
        ""
      ],
      "metadata": {
        "id": "mRmZZEwtOtpO"
      },
      "execution_count": null,
      "outputs": []
    }
  ]
}