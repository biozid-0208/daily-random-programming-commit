{
  "nbformat": 4,
  "nbformat_minor": 0,
  "metadata": {
    "colab": {
      "name": "FinalProject.ipynb",
      "provenance": [],
      "collapsed_sections": [],
      "authorship_tag": "ABX9TyPiB/R63aSHFwoFOJ4dvje8",
      "include_colab_link": true
    },
    "kernelspec": {
      "name": "python3",
      "display_name": "Python 3"
    },
    "language_info": {
      "name": "python"
    }
  },
  "cells": [
    {
      "cell_type": "markdown",
      "metadata": {
        "id": "view-in-github",
        "colab_type": "text"
      },
      "source": [
        "<a href=\"https://colab.research.google.com/github/biozid-0208/daily-random-programming-commit/blob/main/FinalProject.ipynb\" target=\"_parent\"><img src=\"https://colab.research.google.com/assets/colab-badge.svg\" alt=\"Open In Colab\"/></a>"
      ]
    },
    {
      "cell_type": "code",
      "execution_count": 70,
      "metadata": {
        "id": "K66_w7n9FKgd"
      },
      "outputs": [],
      "source": [
        "# Importing the supporting\n",
        "import os\n",
        "import numpy as np\n",
        "import time\n",
        "import matplotlib.pyplot as plt\n",
        "import networkx as nx\n",
        "from numpy.random import default_rng\n",
        "import pandas as pd\n",
        "import random\n",
        "import copy\n",
        "\n",
        "# Global Variable\n",
        "colors = [\n",
        " \"lime\", \"mediumaquamarine\", \"turquoise\", \"teal\", \"cadetblue\",  \"blue\", \"slateblue\", \"blueviolet\", \"magenta\", \"lightsteelblue\", \"lightcoral\", \"gray\", \"lightgray\", \"firebrick\", \"red\", \"chocolate\", \"darkorange\", \"moccasin\", \"gold\", \"yellow\", \"darkolivegreen\", \"chartreuse\", \"forestgreen\"]\n"
      ]
    },
    {
      "cell_type": "code",
      "source": [
        "def netwrok_generator(state, ser, req):\n",
        "    if state == 0:\n",
        "        # define the network\n",
        "        conn = np.random.randint(ser, size=(ser, ser))\n",
        "        conn = np.tril(conn) + np.tril(conn, -1).T\n",
        "        np.fill_diagonal(conn, 0)\n",
        "\n",
        "        #define all requests\n",
        "        rng = default_rng()\n",
        "        tasks = rng.choice(ser, size=(req, 2), replace=True)\n",
        "    else:\n",
        "        conn = np.asarray([1])\n",
        "        tasks = np.asarray([1])\n",
        "    return conn, tasks"
      ],
      "metadata": {
        "id": "PUTsTrjbFYsb"
      },
      "execution_count": 71,
      "outputs": []
    },
    {
      "cell_type": "code",
      "source": [
        "def routing_proc(G, requests):\n",
        "  paths = []\n",
        "  path_dictionary = {}\n",
        "  counter = 0\n",
        "  \n",
        "  for req in requests:\n",
        "    path = nx.shortest_path(G, source=req[0], target=req[1], weight='weight')\n",
        "    paths.append(path)\n",
        "\n",
        "  for path in paths:\n",
        "    result = []\n",
        "    counter += 1\n",
        "    for elm in range(0, len(path)-1):\n",
        "      result.append((path[elm], path[elm+1]))\n",
        "      key = 't'+ str(counter)\n",
        "      path_dictionary[key] = result\n",
        "  return path_dictionary\n",
        "\n",
        "\n"
      ],
      "metadata": {
        "id": "XXLLfY56J_O-"
      },
      "execution_count": 72,
      "outputs": []
    },
    {
      "cell_type": "code",
      "source": [
        "def detect_overlap(a, b):\n",
        "  for i in a:\n",
        "    for j in b:\n",
        "      if set(i) == set(j):\n",
        "        return 1\n",
        "  return 0"
      ],
      "metadata": {
        "id": "SMC6sclyVJec"
      },
      "execution_count": 73,
      "outputs": []
    },
    {
      "cell_type": "code",
      "source": [
        "def collision_manager(path_dictionary):\n",
        "  arr = []\n",
        "  for k1 in path_dictionary.keys() :\n",
        "    tem = []\n",
        "    for k2 in path_dictionary.keys():\n",
        "      if k1 == k2:\n",
        "        result = 0\n",
        "      else:\n",
        "        result = detect_overlap(path_dictionary[k1], path_dictionary[k2])\n",
        "      tem.append(result)\n",
        "    arr.append(tem)\n",
        "  return np.array(arr)"
      ],
      "metadata": {
        "id": "6KpkO5wTUB-c"
      },
      "execution_count": 74,
      "outputs": []
    },
    {
      "cell_type": "code",
      "source": [
        "def greedy_color_graph(transmission_matrix):\n",
        "  color_codes = []\n",
        "  T1 = nx.from_numpy_matrix(transmission_matrix)\n",
        "  g2 = nx.coloring.greedy_color(T1, strategy=\"largest_first\")\n",
        "  print(set(g2.values()))\n",
        "  for k in g2.keys():\n",
        "    T1.nodes[k]['color'] = colors[g2[k]]\n",
        "  colors_nodes = [data['color'] for v, data in T1.nodes(data=True)]\n",
        "  pos = nx.circular_layout(T1) # Set position layout\n",
        "  nx.draw(T1, pos, node_color=colors_nodes, with_labels=True)\n"
      ],
      "metadata": {
        "id": "SabnhYK6Vcn0"
      },
      "execution_count": 75,
      "outputs": []
    },
    {
      "cell_type": "code",
      "source": [
        "def backtracking_graph_coloring(transmission_matrix):\n",
        "  \n",
        "  def assign_color(node_):\n",
        "    safe_color_list = colors.copy()\n",
        "    for nd in T.adj[node_].keys():\n",
        "       if T.nodes[nd]['color'] != 'red':\n",
        "            safe_color_list.remove(T.nodes[nd]['color'])\n",
        "    T.nodes[node_]['color'] = safe_color_list[0]\n",
        "    for nd_ in T.adj[node_].keys():\n",
        "        if T.nodes[nd_]['color'] == 'red':\n",
        "            assign_color(nd_)\n",
        "  \n",
        "  \n",
        "  T = nx.from_numpy_matrix(transmission_matrix)\n",
        "  T.add_nodes_from(list(T.nodes), color='red') # Initializing graph with red-colored nodes\n",
        "  node_colors = []\n",
        "  for nd in T.nodes():\n",
        "      if T.nodes[nd]['color'] == 'red':\n",
        "          assign_color(nd)\n",
        "      node_colors.append(T.nodes[nd]['color'])\n",
        "  print(set(node_colors))\n",
        "  pos = nx.circular_layout(T) # Set position layout\n",
        "  nx.draw(T, pos, node_color=node_colors, with_labels=True)\n",
        "  plt.axis('off') # To prevent showing X-Y axes\n",
        "  plt.show() # Displays the graph\n"
      ],
      "metadata": {
        "id": "5XVvTrKaVjgk"
      },
      "execution_count": 76,
      "outputs": []
    },
    {
      "cell_type": "code",
      "source": [
        "def maximum_degree(graph_):\n",
        "\n",
        "    degrees = [deg for name,deg in graph_.degree]\n",
        "    return max(degrees)\n",
        "\n",
        "#---------------- function generate_random_color ----------------\n",
        "# This function receives an integer, and generates that much random colors.\n",
        "def generate_random_color(number_of_colors):\n",
        "\n",
        "    list_of_colors = []\n",
        "    for i in range(number_of_colors):\n",
        "        r = lambda: random.randint(0,255)\n",
        "        color = '#%02X%02X%02X' % (r(),r(),r())\n",
        "        while (color == '#FF0000') or (color in list_of_colors):\n",
        "            color = '#%02X%02X%02X' % (r(), r(), r())\n",
        "        list_of_colors.append(color)\n",
        "    return list_of_colors\n",
        "\n",
        "#---------------- function assign_color ----------------\n",
        "# This function receives a graph and a list of colors as input, and assigns a valid color in the list to the\n",
        "# nodes of the graph and returns the result graph.\n",
        "def assign_color(graph_, colors):\n",
        "\n",
        "    for node in graph_.nodes:\n",
        "        graph_.nodes[node]['color'] = '#FF0000'\n",
        "    for node in graph_.nodes:\n",
        "        adjacent_colors = []\n",
        "        for adj_node in graph_.adj[node].keys():\n",
        "            adjacent_colors.append(graph_.nodes[adj_node]['color'])\n",
        "        while (graph_.nodes[node]['color'] == '#FF0000') or (graph_.nodes[node]['color'] in adjacent_colors):\n",
        "            graph_.nodes[node]['color'] = random.choice(colors)\n",
        "    return graph_\n",
        "\n",
        "#---------------- function initial_state_generator ----------------\n",
        "# This function receives a graph as input, and returns a graph in a random-color state, so that\n",
        "# we can run Simulated Annealing algorithm on that graph. It also returns the list of colors to be used in HC.\n",
        "def initial_state_generator(graph):\n",
        "\n",
        "    max_deg = maximum_degree(graph)\n",
        "    color_list = generate_random_color(max_deg+1)\n",
        "    graph = assign_color(graph, color_list)\n",
        "    return graph, color_list\n",
        "\n",
        "#---------------- function loss_function ----------------\n",
        "# def print_graph(graph_):\n",
        "    # for node in graph_.nodes:\n",
        "    #     # print(str(node) +\" , \"+ graph_.nodes[node]['color'])\n",
        "    # # print(\"\\n\")\n",
        "\n",
        "#---------------- function loss_function ----------------\n",
        "# This function calculates the loss-function for each state\n",
        "# Loss value is defined to be the number of colors used for coloring a graph\n",
        "def loss_function(graph_):\n",
        "\n",
        "    used_colors = []\n",
        "    for node in graph_.nodes():\n",
        "        if graph_.nodes[node]['color'] not in used_colors:\n",
        "            used_colors.append(graph_.nodes[node]['color'])\n",
        "    return len(used_colors)\n",
        "\n",
        "\n",
        "#---------------- function choose_next_state ----------------\n",
        "# This function receives a dictionary of nodes (zzz) and chooses one node randomly among them all.\n",
        "def choose_next_state(graph_, nodes_dict):\n",
        "\n",
        "    (node, color) = random.choice(list(nodes_dict.keys()))\n",
        "\n",
        "    graph_.nodes[node]['color'] = color\n",
        "    graph_ = hill_climbing(graph_, color_list)\n",
        "    return graph_\n",
        "\n",
        "\n",
        "\n",
        "\n",
        "def hill_climbing(graph, colors):\n",
        "\n",
        "    candidate_colored_nodes = {}\n",
        "    current_loss = copy.deepcopy(loss_function(graph))\n",
        "\n",
        "    for node in graph.nodes():\n",
        "        node_initial_color = copy.deepcopy(graph.nodes[node]['color'])\n",
        "        adjacent_colors = []\n",
        "        for adj_node in graph.adj[node]:\n",
        "            adjacent_colors.append(graph.nodes[adj_node]['color'])\n",
        "\n",
        "        for color in colors: # check all the colors and compare with each other\n",
        "            if color not in set(adjacent_colors):\n",
        "                graph.nodes[node]['color'] = color\n",
        "                if (loss_function(graph) <= current_loss):\n",
        "                    candidate_colored_nodes[(node, color)] = loss_function(graph)\n",
        "        graph.nodes[node]['color'] = node_initial_color\n",
        "\n",
        "    if bool(candidate_colored_nodes):\n",
        "        return graph\n",
        "    else:\n",
        "        graph = choose_next_state(graph, candidate_colored_nodes)\n",
        "        return graph\n"
      ],
      "metadata": {
        "id": "7y8RjZTrkjyU"
      },
      "execution_count": 77,
      "outputs": []
    },
    {
      "cell_type": "code",
      "source": [
        "def create_graph(connection, figure=True):\n",
        "  G2 = nx.from_numpy_matrix(connection)\n",
        "  if figure:\n",
        "    layout = nx.spring_layout(G2)\n",
        "    nx.draw(G2, layout, node_size=500, with_labels=True)\n",
        "    labels = nx.get_edge_attributes(G2,'weight')\n",
        "    # nx.draw_networkx_edge_labels(G2,pos=layout,edge_labels=labels)\n",
        "    plt.show()\n",
        "  return G2"
      ],
      "metadata": {
        "id": "5pc8VJ_Ud29l"
      },
      "execution_count": 78,
      "outputs": []
    },
    {
      "cell_type": "code",
      "source": [
        "def print_transmission_matrix(adj_mtx):\n",
        "  fig, ax = plt.subplots()\n",
        "  ax.imshow(adj_mtx, cmap=\"Blues\")\n",
        "  ax.set_xticks(np.arange(len(adj_mtx[0])))\n",
        "  ax.set_yticks(np.arange(len(adj_mtx[0])))\n",
        "  ax.set_xticklabels(range(0,len(adj_mtx[0])))\n",
        "  ax.set_yticklabels(range(0,len(adj_mtx[0])))\n",
        "\n",
        "  for i in range(len(adj_mtx[0])):\n",
        "      for j in range(len(adj_mtx[0])):\n",
        "          text_color = 'black' if adj_mtx[i, j] == 0 else 'white'\n",
        "          text = ax.text(j, i, adj_mtx[i, j], ha=\"center\", va=\"center\", color=text_color)\n",
        "\n",
        "  ax.set_title(\"Collision matrix\", fontsize=12)\n",
        "  plt.show()"
      ],
      "metadata": {
        "id": "3msICRB1mbL1"
      },
      "execution_count": 79,
      "outputs": []
    },
    {
      "cell_type": "code",
      "source": [
        "num_server = 6\n",
        "num_request = 5\n",
        "connection, request = netwrok_generator(0, num_server, num_request)\n",
        "print(routing_proc(create_graph(connection, False), request))\n",
        "print_transmission_matrix(collision_manager(routing_proc(create_graph(connection, True), request)))"
      ],
      "metadata": {
        "id": "DwveM152ZnsU",
        "colab": {
          "base_uri": "https://localhost:8080/",
          "height": 600
        },
        "outputId": "25dec65e-6dcf-4799-db61-2e01052be76d"
      },
      "execution_count": 95,
      "outputs": [
        {
          "output_type": "stream",
          "name": "stdout",
          "text": [
            "{'t1': [(3, 2)], 't2': [(5, 4), (4, 2)], 't3': [(4, 1)], 't4': [(1, 4), (4, 5)], 't5': [(3, 2)]}\n"
          ]
        },
        {
          "output_type": "display_data",
          "data": {
            "text/plain": [
              "<Figure size 432x288 with 1 Axes>"
            ],
            "image/png": "[encoded data removed]"
          },
          "metadata": {}
        },
        {
          "output_type": "display_data",
          "data": {
            "text/plain": [
              "<Figure size 432x288 with 1 Axes>"
            ],
            "image/png": "[encoded data removed]"
          },
          "metadata": {
            "needs_background": "light"
          }
        }
      ]
    },
    {
      "cell_type": "code",
      "source": [
        "backtracking_graph_coloring(collision_manager(routing_proc(create_graph(connection, False), request)))"
      ],
      "metadata": {
        "colab": {
          "base_uri": "https://localhost:8080/",
          "height": 336
        },
        "id": "kf4kusQocB5d",
        "outputId": "46be613f-0ded-4be6-9840-3671d271e4d5"
      },
      "execution_count": 96,
      "outputs": [
        {
          "output_type": "stream",
          "name": "stdout",
          "text": [
            "{'mediumaquamarine', 'lime'}\n"
          ]
        },
        {
          "output_type": "display_data",
          "data": {
            "text/plain": [
              "<Figure size 432x288 with 1 Axes>"
            ],
            "image/png": "[encoded data removed]"
          },
          "metadata": {}
        }
      ]
    },
    {
      "cell_type": "code",
      "source": [
        "greedy_color_graph(collision_manager(routing_proc(create_graph(connection, False), request)))"
      ],
      "metadata": {
        "colab": {
          "base_uri": "https://localhost:8080/",
          "height": 336
        },
        "id": "SLbE1M-ymiKa",
        "outputId": "7162115e-5d4f-4077-f8f4-df07ddbf933c"
      },
      "execution_count": 97,
      "outputs": [
        {
          "output_type": "stream",
          "name": "stdout",
          "text": [
            "{0, 1}\n"
          ]
        },
        {
          "output_type": "display_data",
          "data": {
            "text/plain": [
              "<Figure size 432x288 with 1 Axes>"
            ],
            "image/png": "[encoded data removed]"
          },
          "metadata": {}
        }
      ]
    },
    {
      "cell_type": "code",
      "source": [
        "T3 = nx.from_numpy_matrix(collision_manager(routing_proc(create_graph(connection, False), request)))\n",
        "G, color_list = initial_state_generator(T3)\n",
        "restart_times = 5\n",
        "best_found = copy.deepcopy(G)\n",
        "\n",
        "for i in range(restart_times):\n",
        "    current_graph = copy.deepcopy(G)\n",
        "    current_graph = hill_climbing(current_graph, color_list)\n",
        "    current_loss = copy.deepcopy(loss_function(current_graph))\n",
        "    # print('\\033[1;36m' + \"Iteration: \" + str(i) + \"    loss: \" + str(current_loss) + '\\033[0m')\n",
        "    # print_graph(current_graph)\n",
        "    if (loss_function(current_graph) < loss_function(best_found)):\n",
        "        best_found = copy.deepcopy(current_graph)\n",
        "\n",
        "#---------------- printing results ----------------\n",
        "node_colors = []\n",
        "for node in best_found.nodes():\n",
        "    node_colors.append(best_found.nodes[node]['color'])\n",
        "print('\\033[1;32m' + \"Chromatic number is: \" + str(len(set(node_colors))) + '\\033[1;32m')\n",
        "\n",
        "pos = nx.circular_layout(best_found) # Set position layout\n",
        "nx.draw(best_found, pos, node_color=node_colors)\n",
        "plt.axis('off') # To prevent showing X-Y axes\n",
        "plt.show() # Displays the graph"
      ],
      "metadata": {
        "colab": {
          "base_uri": "https://localhost:8080/",
          "height": 336
        },
        "id": "Tte6KmsMFhF_",
        "outputId": "8bc65303-6d9c-44f9-f451-ed29d8160b77"
      },
      "execution_count": 99,
      "outputs": [
        {
          "output_type": "stream",
          "name": "stdout",
          "text": [
            "\u001b[1;32mChromatic number is: 3\u001b[1;32m\n"
          ]
        },
        {
          "output_type": "display_data",
          "data": {
            "text/plain": [
              "<Figure size 432x288 with 1 Axes>"
            ],
            "image/png": "[encoded data removed]"
          },
          "metadata": {}
        }
      ]
    },
    {
      "cell_type": "code",
      "source": [
        "connection, request"
      ],
      "metadata": {
        "colab": {
          "base_uri": "https://localhost:8080/"
        },
        "id": "ejfBN9KgGP8a",
        "outputId": "68b3eaf1-55f1-4797-e041-249eab0a2405"
      },
      "execution_count": 94,
      "outputs": [
        {
          "output_type": "execute_result",
          "data": {
            "text/plain": [
              "(array([[0, 4, 0, 4, 5, 0],\n",
              "        [4, 0, 3, 4, 0, 2],\n",
              "        [0, 3, 0, 0, 5, 0],\n",
              "        [4, 4, 0, 0, 0, 1],\n",
              "        [5, 0, 5, 0, 0, 4],\n",
              "        [0, 2, 0, 1, 4, 0]]), array([[1, 3],\n",
              "        [2, 5],\n",
              "        [0, 0],\n",
              "        [2, 3],\n",
              "        [3, 1]]))"
            ]
          },
          "metadata": {},
          "execution_count": 94
        }
      ]
    },
    {
      "cell_type": "code",
      "source": [
        ""
      ],
      "metadata": {
        "id": "QSl_urOvIZEL"
      },
      "execution_count": null,
      "outputs": []
    }
  ]
}