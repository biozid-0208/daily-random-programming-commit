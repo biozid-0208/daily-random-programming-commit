{
  "nbformat": 4,
  "nbformat_minor": 0,
  "metadata": {
    "colab": {
      "name": "summing_all_binary_nodes.ipynb",
      "provenance": [],
      "authorship_tag": "ABX9TyOLh8Fby/Q/FRA3Stah/tSS",
      "include_colab_link": true
    },
    "kernelspec": {
      "name": "python3",
      "display_name": "Python 3"
    },
    "language_info": {
      "name": "python"
    }
  },
  "cells": [
    {
      "cell_type": "markdown",
      "metadata": {
        "id": "view-in-github",
        "colab_type": "text"
      },
      "source": [
        "<a href=\"https://colab.research.google.com/github/biozid-0208/daily-random-programming-commit/blob/main/summing_all_binary_nodes.ipynb\" target=\"_parent\"><img src=\"https://colab.research.google.com/assets/colab-badge.svg\" alt=\"Open In Colab\"/></a>"
      ]
    },
    {
      "cell_type": "code",
      "execution_count": 5,
      "metadata": {
        "id": "tCy1J5LQuwYC"
      },
      "outputs": [],
      "source": [
        "class Node:\n",
        "  def __init__(self, key):\n",
        "    self.key = key\n",
        "    self.right = None\n",
        "    self.left = None\n",
        "\n",
        "def totalValue(root):\n",
        "  if root == None: \n",
        "    return 0\n",
        "  else: \n",
        "    return root.key +  totalValue(root.left) +  totalValue(root.right)\n",
        "\n",
        "\n"
      ]
    },
    {
      "cell_type": "code",
      "source": [
        "root = Node(1)\n",
        "root.left = Node(2)\n",
        "root.right = Node(3)\n",
        "root.left.left = Node(4)\n",
        "root.left.right = Node(5)\n",
        "root.right.left = Node(6)\n",
        "root.right.right = Node(7)\n",
        "root.right.left.right = Node(8)\n",
        "print(\"Total value in the binary tree is: \", totalValue(root))"
      ],
      "metadata": {
        "colab": {
          "base_uri": "https://localhost:8080/"
        },
        "id": "8a0b47qIwLu-",
        "outputId": "6c6482b8-91ba-45e6-bea1-3077bd0b9497"
      },
      "execution_count": 9,
      "outputs": [
        {
          "output_type": "stream",
          "name": "stdout",
          "text": [
            "Total value in the binary tree is:  36\n"
          ]
        }
      ]
    },
    {
      "cell_type": "code",
      "source": [
        ""
      ],
      "metadata": {
        "id": "kUvn0T7_w0gs"
      },
      "execution_count": null,
      "outputs": []
    }
  ]
}