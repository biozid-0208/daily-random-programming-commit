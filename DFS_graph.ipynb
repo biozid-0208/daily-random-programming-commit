{
  "nbformat": 4,
  "nbformat_minor": 0,
  "metadata": {
    "colab": {
      "name": "DFS-graph.ipynb",
      "provenance": [],
      "authorship_tag": "ABX9TyO8SI5Rd/hwt3DoGq/Fm8f+",
      "include_colab_link": true
    },
    "kernelspec": {
      "name": "python3",
      "display_name": "Python 3"
    },
    "language_info": {
      "name": "python"
    }
  },
  "cells": [
    {
      "cell_type": "markdown",
      "metadata": {
        "id": "view-in-github",
        "colab_type": "text"
      },
      "source": [
        "<a href=\"https://colab.research.google.com/github/biozid-0208/daily-random-programming-commit/blob/main/DFS_graph.ipynb\" target=\"_parent\"><img src=\"https://colab.research.google.com/assets/colab-badge.svg\" alt=\"Open In Colab\"/></a>"
      ]
    },
    {
      "cell_type": "code",
      "execution_count": 6,
      "metadata": {
        "id": "bR38ZQYoRwem"
      },
      "outputs": [],
      "source": [
        "def dfs(graph, start, visited=None):\n",
        "  if visited is None:\n",
        "    visited = set()\n",
        "  visited.add(start)\n",
        "  for next in graph[start] - visited:\n",
        "    dfs(graph, next, visited)\n",
        "  return visited"
      ]
    },
    {
      "cell_type": "code",
      "source": [
        "import networkx as nx\n",
        "graph={ 'Amin' : {'Wasim', 'Nick', 'Mike'},\n",
        " 'Wasim' : {'Imran', 'Amin'},\n",
        " 'Imran' : {'Wasim','Faras'},\n",
        " 'Faras' : {'Imran'},\n",
        " 'Mike' :{'Amin'},\n",
        " 'Nick' :{'Amin'}}\n",
        "G = nx.Graph(graph)\n",
        "nx.draw(G, with_labels=True, node_color= 'y', node_size=800)\n",
        "dfs(graph, 'Amin')"
      ],
      "metadata": {
        "colab": {
          "base_uri": "https://localhost:8080/",
          "height": 441
        },
        "id": "WeTXEL3pRy-a",
        "outputId": "9125f7c5-bf14-442a-fd3b-a7a922ab3403"
      },
      "execution_count": 10,
      "outputs": [
        {
          "output_type": "stream",
          "name": "stdout",
          "text": [
            "Amin\n",
            "Nick\n",
            "Wasim\n",
            "Imran\n",
            "Faras\n",
            "Mike\n"
          ]
        },
        {
          "output_type": "execute_result",
          "data": {
            "text/plain": [
              "{'Amin', 'Faras', 'Imran', 'Mike', 'Nick', 'Wasim'}"
            ]
          },
          "metadata": {},
          "execution_count": 10
        },
        {
          "output_type": "display_data",
          "data": {
            "image/png": "[encoded data removed]",
            "text/plain": [
              "<Figure size 432x288 with 1 Axes>"
            ]
          },
          "metadata": {}
        }
      ]
    },
    {
      "cell_type": "code",
      "source": [
        ""
      ],
      "metadata": {
        "id": "bOasXdSFSgMB"
      },
      "execution_count": null,
      "outputs": []
    }
  ]
}