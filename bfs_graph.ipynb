{
  "nbformat": 4,
  "nbformat_minor": 0,
  "metadata": {
    "colab": {
      "name": "bfs_graph.ipynb",
      "provenance": [],
      "authorship_tag": "ABX9TyOuEz7rRyctbhwGk0BQI4T3",
      "include_colab_link": true
    },
    "kernelspec": {
      "name": "python3",
      "display_name": "Python 3"
    },
    "language_info": {
      "name": "python"
    }
  },
  "cells": [
    {
      "cell_type": "markdown",
      "metadata": {
        "id": "view-in-github",
        "colab_type": "text"
      },
      "source": [
        "<a href=\"https://colab.research.google.com/github/biozid-0208/daily-random-programming-commit/blob/main/bfs_graph.ipynb\" target=\"_parent\"><img src=\"https://colab.research.google.com/assets/colab-badge.svg\" alt=\"Open In Colab\"/></a>"
      ]
    },
    {
      "cell_type": "code",
      "execution_count": 5,
      "metadata": {
        "id": "cb_9o_OGzKab"
      },
      "outputs": [],
      "source": [
        "def bfs(graph, start):\n",
        "  visited = []\n",
        "  queue = [start]\n",
        "  while queue:\n",
        "    node = queue.pop(0)\n",
        "    if node not in visited:\n",
        "      visited.append(node)\n",
        "      neighbors = graph[node]\n",
        "      for neighbor in neighbors:\n",
        "        queue.append(neighbor)\n",
        "  return visited\n"
      ]
    },
    {
      "cell_type": "code",
      "source": [
        "graph={ 'Amin' : {'Wasim', 'Nick', 'Mike'},\n",
        " 'Wasim' : {'Imran', 'Amin'},\n",
        " 'Imran' : {'Wasim','Faras'},\n",
        " 'Faras' : {'Imran'},\n",
        " 'Mike' : {'Amin'},\n",
        " 'Nick' : {'Amin'}}\n",
        "\n",
        "print(bfs(graph, 'Nick'))"
      ],
      "metadata": {
        "colab": {
          "base_uri": "https://localhost:8080/"
        },
        "id": "2uiulwZVz6we",
        "outputId": "3b010220-ddf3-48cc-98db-c688e331bbda"
      },
      "execution_count": 8,
      "outputs": [
        {
          "output_type": "stream",
          "name": "stdout",
          "text": [
            "['Nick', 'Amin', 'Wasim', 'Mike', 'Imran', 'Faras']\n"
          ]
        }
      ]
    },
    {
      "cell_type": "code",
      "source": [
        ""
      ],
      "metadata": {
        "id": "LiOl50Ii0OI6"
      },
      "execution_count": null,
      "outputs": []
    }
  ]
}