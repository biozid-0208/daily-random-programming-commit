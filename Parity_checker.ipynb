{
  "nbformat": 4,
  "nbformat_minor": 0,
  "metadata": {
    "colab": {
      "name": "Parity_checker.ipynb",
      "provenance": [],
      "authorship_tag": "ABX9TyP++/WvD2AEDcb2R2GIjpIP",
      "include_colab_link": true
    },
    "kernelspec": {
      "name": "python3",
      "display_name": "Python 3"
    },
    "language_info": {
      "name": "python"
    }
  },
  "cells": [
    {
      "cell_type": "markdown",
      "metadata": {
        "id": "view-in-github",
        "colab_type": "text"
      },
      "source": [
        "<a href=\"https://colab.research.google.com/github/biozid-0208/daily-random-programming-commit/blob/main/Parity_checker.ipynb\" target=\"_parent\"><img src=\"https://colab.research.google.com/assets/colab-badge.svg\" alt=\"Open In Colab\"/></a>"
      ]
    },
    {
      "cell_type": "code",
      "execution_count": 1,
      "metadata": {
        "id": "BrGXYjmCuOf-"
      },
      "outputs": [],
      "source": [
        "def getParity( n ):\n",
        "    parity = 0\n",
        "    while n:\n",
        "        parity = ~parity\n",
        "        n = n & (n - 1)\n",
        "    return parity"
      ]
    },
    {
      "cell_type": "code",
      "source": [
        "for i in range(1,10):\n",
        "  print(\"Parity of : \", i, \"=\", \"Odd parity!\" if getParity(i) else \"Even Parity!\")"
      ],
      "metadata": {
        "colab": {
          "base_uri": "https://localhost:8080/"
        },
        "id": "uY3CADwauT6i",
        "outputId": "ab9a30c9-73fd-4bd2-aee4-4a118c4ff678"
      },
      "execution_count": 9,
      "outputs": [
        {
          "output_type": "stream",
          "name": "stdout",
          "text": [
            "Parity of :  1 = Odd parity!\n",
            "Parity of :  2 = Odd parity!\n",
            "Parity of :  3 = Even Parity!\n",
            "Parity of :  4 = Odd parity!\n",
            "Parity of :  5 = Even Parity!\n",
            "Parity of :  6 = Even Parity!\n",
            "Parity of :  7 = Odd parity!\n",
            "Parity of :  8 = Odd parity!\n",
            "Parity of :  9 = Even Parity!\n"
          ]
        }
      ]
    },
    {
      "cell_type": "code",
      "source": [
        ""
      ],
      "metadata": {
        "id": "VnN4yHPDutB6"
      },
      "execution_count": null,
      "outputs": []
    }
  ]
}