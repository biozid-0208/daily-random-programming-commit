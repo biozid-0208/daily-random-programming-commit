{
  "nbformat": 4,
  "nbformat_minor": 0,
  "metadata": {
    "colab": {
      "name": "dfnc.ipynb",
      "provenance": [],
      "authorship_tag": "ABX9TyP2NP4IW2EOslv+CoPOHTbT",
      "include_colab_link": true
    },
    "kernelspec": {
      "name": "python3",
      "display_name": "Python 3"
    },
    "language_info": {
      "name": "python"
    }
  },
  "cells": [
    {
      "cell_type": "markdown",
      "metadata": {
        "id": "view-in-github",
        "colab_type": "text"
      },
      "source": [
        "<a href=\"https://colab.research.google.com/github/biozid-0208/daily-random-programming-commit/blob/main/dfnc1.ipynb\" target=\"_parent\"><img src=\"https://colab.research.google.com/assets/colab-badge.svg\" alt=\"Open In Colab\"/></a>"
      ]
    },
    {
      "cell_type": "code",
      "execution_count": null,
      "metadata": {
        "id": "3OnQhJq6UNQs"
      },
      "outputs": [],
      "source": [
        "import pandas as pd\n",
        "import numpy as np\n",
        "import matplotlib.pyplot as plt\n",
        "import sklearn\n",
        "import sklearn.linear_model\n",
        "import sklearn.ensemble\n",
        "import sklearn.metrics\n",
        "from sklearn.model_selection import GridSearchCV\n",
        "import warnings\n",
        "warnings.filterwarnings('ignore')"
      ]
    },
    {
      "cell_type": "code",
      "source": [
        "def split_x_and_y(X, y, test_size = 0.2, random_state = 42):\n",
        "    # % of the sample size\n",
        "    train_size=int(len(X)*test_size)\n",
        "\n",
        "    #Make our results reproducible\n",
        "    np.random.seed(random_state)\n",
        "\n",
        "    #Select randomly the rows for the training dataset\n",
        "    rows_array=np.random.choice(len(X),size=train_size,replace=False)\n",
        "\n",
        "    #Create x,y train datasets\n",
        "    X_train=X.iloc[rows_array]\n",
        "    y_train=y.iloc[rows_array]\n",
        "\n",
        "    #Select the rest arrays for the test dataset\n",
        "    total_rows=np.arange(len(X))\n",
        "    test_arrays=np.delete(total_rows,rows_array)\n",
        "\n",
        "    #Create x,y test datasets\n",
        "    X_test=X.iloc[test_arrays]\n",
        "    y_test=y.iloc[test_arrays]\n",
        "\n",
        "    return(X_train,y_train,X_test,y_test)"
      ],
      "metadata": {
        "id": "0F1m93vMUPwG"
      },
      "execution_count": null,
      "outputs": []
    },
    {
      "cell_type": "code",
      "source": [
        "def specify_models():\n",
        "\n",
        "    knear={'name':'K Nearest Neighbors Classifier',\n",
        "           'class':sklearn.neighbors.KNeighborsClassifier(),\n",
        "            'parameters':{'n_neighbors':range(1,12)}\n",
        "          }\n",
        "\n",
        "    svc_linear={'name':'Support Vector Classifier with Linear Kernel',\n",
        "               'class':sklearn.svm.LinearSVC(),\n",
        "                'parameters':{'C':[0.001,0.01,0.1,1,10,100]}\n",
        "          }\n",
        "\n",
        "    sv_radial={'name':'Support Vector Classifier with Radial Kernel',\n",
        "               'class':sklearn.svm.SVC(kernel='rbf'),\n",
        "                'parameters':{'C':[0.001,0.01,0.1,1,10,100],'gamma':[0.001,0.01,0.1,1,10,100]}\n",
        "          }\n",
        "\n",
        "    loglas={'name':\"Logistic Regression with LASSO\",\n",
        "             'class':sklearn.linear_model.LogisticRegression(penalty='l2'),\n",
        "             'parameters':{'C':[0.001,0.01,0.1,1,10,100]}\n",
        "            }\n",
        "\n",
        "    sgdc={'name':\"Stochastic Gradient Descent Classifier\",\n",
        "            'class':sklearn.linear_model.SGDClassifier(),\n",
        "            'parameters':{'max_iter':[100,1000],'alpha':[0.0001,0.001,0.01,0.1]}\n",
        "            }\n",
        "\n",
        "    decis_tree={'name':\"Decision Tree Classifier\",\n",
        "            'class':sklearn.tree.DecisionTreeClassifier(),\n",
        "            'parameters':{'max_depth':range(3,15)}\n",
        "            }\n",
        "\n",
        "    ranfor={'name':\"Random Forest Classifier\",\n",
        "            'class':sklearn.ensemble.RandomForestClassifier(),\n",
        "            'parameters':{'n_estimators':[10,20,50,100,200]}\n",
        "            }\n",
        "\n",
        "    extrerantree={'name':\"Extremely Randomized Trees Classifier\",\n",
        "                    'class':sklearn.ensemble.ExtraTreesClassifier(),\n",
        "                    'parameters':{'n_estimators':[10,20,50,100,200]}\n",
        "                 }\n",
        "\n",
        "\n",
        "    lis=list([knear,svc_linear,sv_radial,loglas,sgdc,decis_tree,ranfor,extrerantree])\n",
        "\n",
        "    return(lis)"
      ],
      "metadata": {
        "id": "sGLWglBjUxF4"
      },
      "execution_count": null,
      "outputs": []
    },
    {
      "cell_type": "code",
      "source": [
        "def train_model(model_dict, X, y, metric = 'f1', k = 5):\n",
        "    name=model_dict['name']\n",
        "    param_grid = model_dict['parameters']\n",
        "    clf=GridSearchCV(estimator=model_dict['class'], param_grid=param_grid, cv= k, scoring=metric)\n",
        "    best_score= clf.fit(X,y).best_score_\n",
        "    best_model= clf\n",
        "    return(name, best_model, best_score)"
      ],
      "metadata": {
        "id": "-Ex_oyrEU166"
      },
      "execution_count": null,
      "outputs": []
    },
    {
      "cell_type": "code",
      "source": [
        "def train_all_models(models, X, y, metric ='roc_auc', k = 5):\n",
        "    #Initialize the list\n",
        "    final_list=list()\n",
        "\n",
        "    for i in range(0,len(models)):\n",
        "        tr_model=train_model(models[i] ,X ,y , metric = metric, k=k)\n",
        "        final_list.append(tr_model)\n",
        "\n",
        "    #Sort the final list\n",
        "    final_list=sorted(final_list, key=lambda score: score[2], reverse=True)\n",
        "    return(final_list)"
      ],
      "metadata": {
        "id": "LmBqkGcHVKPp"
      },
      "execution_count": null,
      "outputs": []
    },
    {
      "cell_type": "code",
      "source": [
        "def auto_train_binary_classifier(X,y, models, test_size = 0.2, random_state = 42,\n",
        "                                 metric = 'roc_auc', k = 5):\n",
        "\n",
        "\n",
        "\n",
        "    #Use the second function to split the dataframe to training and test\n",
        "    split_df=split_x_and_y(X, y,\n",
        "                           test_size = test_size,\n",
        "                           random_state = random_state\n",
        "                          )\n",
        "\n",
        "    #Train all the models\n",
        "    final_model=train_all_models(models, split_df[0],split_df[1], metric = metric, k = k)\n",
        "\n",
        "\n",
        "\n",
        "\n",
        "    #Take the best model, it's name and the score\n",
        "    best_model_name=final_model[1][0]\n",
        "    best_model=final_model[1][1]\n",
        "    train_set_score=final_model[1][2]\n",
        "\n",
        "    ##################################\n",
        "    # Test set performance\n",
        "    ##################################\n",
        "\n",
        "    predicted=final_model[1][1].predict(split_df[2])\n",
        "    test_set_score=sklearn.metrics.accuracy_score(split_df[3], predicted)\n",
        "\n",
        "    return(best_model_name, best_model, train_set_score, test_set_score)"
      ],
      "metadata": {
        "id": "o16vcCE-VRyg"
      },
      "execution_count": null,
      "outputs": []
    },
    {
      "cell_type": "code",
      "source": [
        "import scipy.io\n",
        "import numpy as np\n",
        "import pandas as pd\n",
        "\n",
        "mat = scipy.io.loadmat('/content/_cluster_3_data.mat')\n",
        "data = pd.DataFrame(mat['result_data'])\n",
        "info = pd.DataFrame(mat['result_demographic'][:,-1])\n",
        "models = specify_models()\n",
        "best_model_name, best_model, train_set_score, test_set_score = auto_train_binary_classifier(data,info, models)\n"
      ],
      "metadata": {
        "id": "eRdF4WIZVtkV"
      },
      "execution_count": null,
      "outputs": []
    },
    {
      "cell_type": "code",
      "source": [
        "print(best_model_name)\n",
        "print(best_model)\n",
        "print(train_set_score)\n",
        "print(test_set_score)"
      ],
      "metadata": {
        "colab": {
          "base_uri": "https://localhost:8080/"
        },
        "id": "Egj2QqqRapoH",
        "outputId": "867ef4b4-9df7-4ae2-a5a7-69f2b7363b58"
      },
      "execution_count": null,
      "outputs": [
        {
          "output_type": "stream",
          "name": "stdout",
          "text": [
            "Extremely Randomized Trees Classifier\n",
            "GridSearchCV(cv=5, estimator=ExtraTreesClassifier(),\n",
            "             param_grid={'n_estimators': [10, 20, 50, 100, 200]},\n",
            "             scoring='roc_auc')\n",
            "0.7383333333333334\n",
            "0.6102941176470589\n"
          ]
        }
      ]
    },
    {
      "cell_type": "code",
      "source": [
        "mat = scipy.io.loadmat('/content/_cluster_2_data.mat')\n",
        "data = pd.DataFrame(mat['result_data'])\n",
        "info = pd.DataFrame(mat['result_demographic'][:,-1])\n",
        "models = specify_models()\n",
        "best_model_name, best_model, train_set_score, test_set_score = auto_train_binary_classifier(data,info, models)\n"
      ],
      "metadata": {
        "id": "WI-yylG4YoEn"
      },
      "execution_count": null,
      "outputs": []
    },
    {
      "cell_type": "code",
      "source": [
        "print(best_model_name)\n",
        "print(best_model)\n",
        "print(train_set_score)\n",
        "print(test_set_score)"
      ],
      "metadata": {
        "colab": {
          "base_uri": "https://localhost:8080/"
        },
        "id": "iizTAyMIag28",
        "outputId": "824065ac-7b75-4a81-e415-55d511fe8246"
      },
      "execution_count": null,
      "outputs": [
        {
          "output_type": "stream",
          "name": "stdout",
          "text": [
            "Extremely Randomized Trees Classifier\n",
            "GridSearchCV(cv=5, estimator=ExtraTreesClassifier(),\n",
            "             param_grid={'n_estimators': [10, 20, 50, 100, 200]},\n",
            "             scoring='roc_auc')\n",
            "0.7\n",
            "0.4880952380952381\n"
          ]
        }
      ]
    },
    {
      "cell_type": "code",
      "source": [
        "mat = scipy.io.loadmat('/content/_cluster_1_data.mat')\n",
        "data = pd.DataFrame(mat['result_data'])\n",
        "info = pd.DataFrame(mat['result_demographic'][:,-1])\n",
        "models = specify_models()\n",
        "best_model_name, best_model, train_set_score, test_set_score = auto_train_binary_classifier(data,info, models)\n"
      ],
      "metadata": {
        "id": "8tbvBqmAarfd"
      },
      "execution_count": null,
      "outputs": []
    },
    {
      "cell_type": "code",
      "source": [
        "print(best_model_name)\n",
        "print(best_model)\n",
        "print(train_set_score)\n",
        "print(test_set_score)"
      ],
      "metadata": {
        "colab": {
          "base_uri": "https://localhost:8080/"
        },
        "id": "qjz-omxoa3N3",
        "outputId": "6ed78f8b-dcc6-4189-82a7-ad40536202af"
      },
      "execution_count": null,
      "outputs": [
        {
          "output_type": "stream",
          "name": "stdout",
          "text": [
            "Support Vector Classifier with Linear Kernel\n",
            "GridSearchCV(cv=5, estimator=LinearSVC(),\n",
            "             param_grid={'C': [0.001, 0.01, 0.1, 1, 10, 100]},\n",
            "             scoring='roc_auc')\n",
            "nan\n",
            "0.6875\n"
          ]
        }
      ]
    },
    {
      "cell_type": "code",
      "source": [
        "mat = scipy.io.loadmat('/content/cluster_1_data.mat')\n",
        "data = pd.DataFrame(mat['result_data'])\n",
        "info = pd.DataFrame(mat['result_demographic'][:,-1])\n",
        "models = specify_models()\n",
        "best_model_name, best_model, train_set_score, test_set_score = auto_train_binary_classifier(data,info, models)\n"
      ],
      "metadata": {
        "id": "_mdxNMTHa8wa"
      },
      "execution_count": null,
      "outputs": []
    },
    {
      "cell_type": "code",
      "source": [
        "print(best_model_name)\n",
        "print(best_model)\n",
        "print(train_set_score)\n",
        "print(test_set_score)"
      ],
      "metadata": {
        "colab": {
          "base_uri": "https://localhost:8080/"
        },
        "id": "mE8etCacbSZv",
        "outputId": "311e171c-6e4c-4dfa-fb9e-cdf6a931d146"
      },
      "execution_count": null,
      "outputs": [
        {
          "output_type": "stream",
          "name": "stdout",
          "text": [
            "Support Vector Classifier with Linear Kernel\n",
            "GridSearchCV(cv=5, estimator=LinearSVC(),\n",
            "             param_grid={'C': [0.001, 0.01, 0.1, 1, 10, 100]},\n",
            "             scoring='roc_auc')\n",
            "nan\n",
            "0.7333333333333333\n"
          ]
        }
      ]
    },
    {
      "cell_type": "code",
      "source": [
        "mat = scipy.io.loadmat('/content/cluster_2_data.mat')\n",
        "data = pd.DataFrame(mat['result_data'])\n",
        "info = pd.DataFrame(mat['result_demographic'][:,-1])\n",
        "models = specify_models()\n",
        "best_model_name, best_model, train_set_score, test_set_score = auto_train_binary_classifier(data,info, models)\n"
      ],
      "metadata": {
        "id": "UXWT_imabY_F"
      },
      "execution_count": null,
      "outputs": []
    },
    {
      "cell_type": "code",
      "source": [
        "print(best_model_name)\n",
        "print(best_model)\n",
        "print(train_set_score)\n",
        "print(test_set_score)"
      ],
      "metadata": {
        "colab": {
          "base_uri": "https://localhost:8080/"
        },
        "id": "uizywn5Pbdu7",
        "outputId": "f77a8e55-90aa-40b4-9b75-e1e45b2b693b"
      },
      "execution_count": null,
      "outputs": [
        {
          "output_type": "stream",
          "name": "stdout",
          "text": [
            "Logistic Regression with LASSO\n",
            "GridSearchCV(cv=5, estimator=LogisticRegression(),\n",
            "             param_grid={'C': [0.001, 0.01, 0.1, 1, 10, 100]},\n",
            "             scoring='roc_auc')\n",
            "0.85\n",
            "0.5135135135135135\n"
          ]
        }
      ]
    },
    {
      "cell_type": "code",
      "source": [
        "mat = scipy.io.loadmat('/content/cluster_3_data.mat')\n",
        "data = pd.DataFrame(mat['result_data'])\n",
        "info = pd.DataFrame(mat['result_demographic'][:,-1])\n",
        "models = specify_models()\n",
        "best_model_name, best_model, train_set_score, test_set_score = auto_train_binary_classifier(data,info, models)\n"
      ],
      "metadata": {
        "id": "8ZdrY4vEbiEt"
      },
      "execution_count": null,
      "outputs": []
    },
    {
      "cell_type": "code",
      "source": [
        "print(best_model_name)\n",
        "print(best_model)\n",
        "print(train_set_score)\n",
        "print(test_set_score)"
      ],
      "metadata": {
        "colab": {
          "base_uri": "https://localhost:8080/"
        },
        "id": "SKnuMHo6bk6f",
        "outputId": "4928aa1d-cad7-4c41-d090-71e81e50e3b5"
      },
      "execution_count": null,
      "outputs": [
        {
          "output_type": "stream",
          "name": "stdout",
          "text": [
            "Extremely Randomized Trees Classifier\n",
            "GridSearchCV(cv=5, estimator=ExtraTreesClassifier(),\n",
            "             param_grid={'n_estimators': [10, 20, 50, 100, 200]},\n",
            "             scoring='roc_auc')\n",
            "0.8666666666666666\n",
            "0.4935064935064935\n"
          ]
        }
      ]
    },
    {
      "cell_type": "code",
      "source": [
        "mat = scipy.io.loadmat('/content/cluster_4_data.mat')\n",
        "data = pd.DataFrame(mat['result_data'])\n",
        "info = pd.DataFrame(mat['result_demographic'][:,-1])\n",
        "models = specify_models()\n",
        "best_model_name, best_model, train_set_score, test_set_score = auto_train_binary_classifier(data,info, models)\n"
      ],
      "metadata": {
        "id": "rKwl8hOfbmwj"
      },
      "execution_count": null,
      "outputs": []
    },
    {
      "cell_type": "code",
      "source": [
        "print(best_model_name)\n",
        "print(best_model)\n",
        "print(train_set_score)\n",
        "print(test_set_score)"
      ],
      "metadata": {
        "colab": {
          "base_uri": "https://localhost:8080/"
        },
        "id": "9Wzt7lhSbq4R",
        "outputId": "2fd0a135-31b0-4991-a866-b2817e9df282"
      },
      "execution_count": null,
      "outputs": [
        {
          "output_type": "stream",
          "name": "stdout",
          "text": [
            "Support Vector Classifier with Linear Kernel\n",
            "GridSearchCV(cv=5, estimator=LinearSVC(),\n",
            "             param_grid={'C': [0.001, 0.01, 0.1, 1, 10, 100]},\n",
            "             scoring='roc_auc')\n",
            "nan\n",
            "0.7333333333333333\n"
          ]
        }
      ]
    },
    {
      "cell_type": "code",
      "source": [
        "mat = scipy.io.loadmat('/content/cluster_5_data.mat')\n",
        "data = pd.DataFrame(mat['result_data'])\n",
        "info = pd.DataFrame(mat['result_demographic'][:,-1])\n",
        "models = specify_models()\n",
        "best_model_name, best_model, train_set_score, test_set_score = auto_train_binary_classifier(data,info, models)\n"
      ],
      "metadata": {
        "id": "HWF1fqRHbtIC"
      },
      "execution_count": null,
      "outputs": []
    },
    {
      "cell_type": "code",
      "source": [
        "print(best_model_name)\n",
        "print(best_model)\n",
        "print(train_set_score)\n",
        "print(test_set_score)"
      ],
      "metadata": {
        "colab": {
          "base_uri": "https://localhost:8080/"
        },
        "id": "PeubqnfEbwWH",
        "outputId": "b049d7e1-09e0-472a-b9b9-a964ecdca0c0"
      },
      "execution_count": null,
      "outputs": [
        {
          "output_type": "stream",
          "name": "stdout",
          "text": [
            "Support Vector Classifier with Linear Kernel\n",
            "GridSearchCV(cv=5, estimator=LinearSVC(),\n",
            "             param_grid={'C': [0.001, 0.01, 0.1, 1, 10, 100]},\n",
            "             scoring='roc_auc')\n",
            "nan\n",
            "0.7333333333333333\n"
          ]
        }
      ]
    },
    {
      "cell_type": "code",
      "source": [
        ""
      ],
      "metadata": {
        "id": "FJpMcNg5b2J6"
      },
      "execution_count": null,
      "outputs": []
    }
  ]
}